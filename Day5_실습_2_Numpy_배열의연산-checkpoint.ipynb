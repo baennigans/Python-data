{
 "cells": [
  {
   "cell_type": "markdown",
   "metadata": {
    "id": "cKGkg3WNl9pB"
   },
   "source": [
    "# 1. 넘파이 배열의 연산\n",
    "\n",
    "\n",
    "## 1-1. 배열과 스칼라(상수) 간의 연산\n",
    "* 같은 배열 내 요소의 합 구하기 : *numpy*.**sum**(*ndarray*, axis=0/1) : 0 - row, 1 - column\n",
    "* 배열 전체 요소의 합 구하기 : *ndarray*.**sum()"
   ]
  },
  {
   "cell_type": "code",
   "execution_count": null,
   "metadata": {
    "colab": {
     "base_uri": "https://localhost:8080/"
    },
    "executionInfo": {
     "elapsed": 3,
     "status": "ok",
     "timestamp": 1684576692083,
     "user": {
      "displayName": "꾬은주",
      "userId": "05623544279730996499"
     },
     "user_tz": -540
    },
    "id": "O2ZeH7dUmEvh",
    "outputId": "9487fc35-b61c-4cd7-fc25-205bda9311e1"
   },
   "outputs": [],
   "source": [
    "# 같은 배열 내 요소의 합 구하기\n",
    "# 1 ~ 6 까지의 2x3 배열 생성\n",
    "\n",
    "\n",
    "# row별 합\n",
    "\n",
    "# column별 합\n"
   ]
  },
  {
   "cell_type": "code",
   "execution_count": null,
   "metadata": {
    "colab": {
     "base_uri": "https://localhost:8080/"
    },
    "executionInfo": {
     "elapsed": 308,
     "status": "ok",
     "timestamp": 1684576699321,
     "user": {
      "displayName": "꾬은주",
      "userId": "05623544279730996499"
     },
     "user_tz": -540
    },
    "id": "7ywynz4RmG4W",
    "outputId": "1133cb53-b2b3-4063-bf05-cf35597b2250"
   },
   "outputs": [],
   "source": [
    "#배열 전체 요소의 합 구하기\n"
   ]
  },
  {
   "cell_type": "markdown",
   "metadata": {
    "id": "dv9R5LDsmJAU"
   },
   "source": [
    "* 배열과 상수의 사칙연산 -> 배열의 각 요소마다 상수의 사칙연산 적용"
   ]
  },
  {
   "cell_type": "code",
   "execution_count": null,
   "metadata": {
    "colab": {
     "base_uri": "https://localhost:8080/"
    },
    "executionInfo": {
     "elapsed": 7,
     "status": "ok",
     "timestamp": 1684576727865,
     "user": {
      "displayName": "꾬은주",
      "userId": "05623544279730996499"
     },
     "user_tz": -540
    },
    "id": "2fghFGqbmN2M",
    "outputId": "423a54c3-b07a-47f3-85bc-4c9d9d9b6aa0"
   },
   "outputs": [],
   "source": [
    "# 1 ~ 12 까지 숫자를 3x4 배열로 만든 후 상수 10으로 사칙연산하기\n"
   ]
  },
  {
   "cell_type": "markdown",
   "metadata": {
    "id": "ezS1m-kgmiVa"
   },
   "source": [
    "## 1-2. 브로드캐스팅\n",
    "\n",
    "* 차원의 크기가 다른 배열끼지 산술연산이 가능하도록, 모양/차원이 다른 배열들을 변환하는것\n",
    "  - 최소한 하나의 배열의 1차원인 경우\n",
    "  - 두 배열의 차원의 쌍이 맞을 경우\n",
    "  - 차원에 대해 행의 길이 혹은 열의 길이가 같은 겨우"
   ]
  },
  {
   "cell_type": "code",
   "execution_count": 2,
   "metadata": {
    "colab": {
     "base_uri": "https://localhost:8080/"
    },
    "executionInfo": {
     "elapsed": 351,
     "status": "ok",
     "timestamp": 1684576823437,
     "user": {
      "displayName": "꾬은주",
      "userId": "05623544279730996499"
     },
     "user_tz": -540
    },
    "id": "ysIRJFzsmlA9",
    "outputId": "d9290e0e-6b69-4575-98da-7e5621f0e4ca"
   },
   "outputs": [
    {
     "data": {
      "text/plain": [
       "array([[2, 4],\n",
       "       [4, 6]])"
      ]
     },
     "execution_count": 2,
     "metadata": {},
     "output_type": "execute_result"
    }
   ],
   "source": [
    "A=np.array([[1, 2], [3, 4]])\n",
    "B=np.array([1, 2])\n"
   ]
  },
  {
   "cell_type": "code",
   "execution_count": null,
   "metadata": {
    "colab": {
     "base_uri": "https://localhost:8080/"
    },
    "executionInfo": {
     "elapsed": 2,
     "status": "ok",
     "timestamp": 1684576839667,
     "user": {
      "displayName": "꾬은주",
      "userId": "05623544279730996499"
     },
     "user_tz": -540
    },
    "id": "zFbqT-Ocmokc",
    "outputId": "3fb11eb5-2fc2-452f-918d-ae5f3fde1db1"
   },
   "outputs": [],
   "source": [
    "A=np.array([[1, 2, 3], [4, 5, 6]])\n",
    "B=np.array([2])\n"
   ]
  },
  {
   "cell_type": "code",
   "execution_count": null,
   "metadata": {
    "colab": {
     "base_uri": "https://localhost:8080/"
    },
    "executionInfo": {
     "elapsed": 12,
     "status": "ok",
     "timestamp": 1684576847940,
     "user": {
      "displayName": "꾬은주",
      "userId": "05623544279730996499"
     },
     "user_tz": -540
    },
    "id": "P5hRT8jTmq5m",
    "outputId": "42628b88-029f-4dff-ec08-188867fc3d2e"
   },
   "outputs": [],
   "source": [
    "A=np.array([[1, 2, 3], [4, 5, 6]])\n",
    "B=np.array([[2], [4]])\n"
   ]
  }
 ],
 "metadata": {
  "colab": {
   "authorship_tag": "ABX9TyMgdRDI49aDreypKDvoDdhA",
   "provenance": []
  },
  "kernelspec": {
   "display_name": "Python 3 (ipykernel)",
   "language": "python",
   "name": "python3"
  },
  "language_info": {
   "codemirror_mode": {
    "name": "ipython",
    "version": 3
   },
   "file_extension": ".py",
   "mimetype": "text/x-python",
   "name": "python",
   "nbconvert_exporter": "python",
   "pygments_lexer": "ipython3",
   "version": "3.11.4"
  }
 },
 "nbformat": 4,
 "nbformat_minor": 1
}
