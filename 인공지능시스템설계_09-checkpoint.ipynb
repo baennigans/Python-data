{
 "cells": [
  {
   "cell_type": "code",
   "execution_count": 15,
   "id": "25064542",
   "metadata": {},
   "outputs": [
    {
     "data": {
      "text/html": [
       "<div>\n",
       "<style scoped>\n",
       "    .dataframe tbody tr th:only-of-type {\n",
       "        vertical-align: middle;\n",
       "    }\n",
       "\n",
       "    .dataframe tbody tr th {\n",
       "        vertical-align: top;\n",
       "    }\n",
       "\n",
       "    .dataframe thead th {\n",
       "        text-align: right;\n",
       "    }\n",
       "</style>\n",
       "<table border=\"1\" class=\"dataframe\">\n",
       "  <thead>\n",
       "    <tr style=\"text-align: right;\">\n",
       "      <th></th>\n",
       "      <th>who</th>\n",
       "      <th>Newbie</th>\n",
       "      <th>Age</th>\n",
       "      <th>Gender</th>\n",
       "      <th>Household Income</th>\n",
       "      <th>Sexual Preference</th>\n",
       "      <th>Country</th>\n",
       "      <th>Education Attainment</th>\n",
       "      <th>Major Occupation</th>\n",
       "      <th>Marital Status</th>\n",
       "      <th>Years on Internet</th>\n",
       "    </tr>\n",
       "  </thead>\n",
       "  <tbody>\n",
       "    <tr>\n",
       "      <th>0</th>\n",
       "      <td>id74364</td>\n",
       "      <td>0</td>\n",
       "      <td>54.0</td>\n",
       "      <td>Male</td>\n",
       "      <td>$50-74</td>\n",
       "      <td>Gay male</td>\n",
       "      <td>Ontario</td>\n",
       "      <td>Some College</td>\n",
       "      <td>Computer</td>\n",
       "      <td>Other</td>\n",
       "      <td>4-6 yr</td>\n",
       "    </tr>\n",
       "    <tr>\n",
       "      <th>1</th>\n",
       "      <td>id84505</td>\n",
       "      <td>0</td>\n",
       "      <td>39.0</td>\n",
       "      <td>Female</td>\n",
       "      <td>Over $100</td>\n",
       "      <td>Heterosexual</td>\n",
       "      <td>Sweden</td>\n",
       "      <td>Professional</td>\n",
       "      <td>Other</td>\n",
       "      <td>Other</td>\n",
       "      <td>1-3 yr</td>\n",
       "    </tr>\n",
       "    <tr>\n",
       "      <th>2</th>\n",
       "      <td>id84509</td>\n",
       "      <td>1</td>\n",
       "      <td>49.0</td>\n",
       "      <td>Female</td>\n",
       "      <td>$40-49</td>\n",
       "      <td>Heterosexual</td>\n",
       "      <td>Washington</td>\n",
       "      <td>Some College</td>\n",
       "      <td>Management</td>\n",
       "      <td>Other</td>\n",
       "      <td>Under 6 mo</td>\n",
       "    </tr>\n",
       "    <tr>\n",
       "      <th>3</th>\n",
       "      <td>id87028</td>\n",
       "      <td>1</td>\n",
       "      <td>22.0</td>\n",
       "      <td>Female</td>\n",
       "      <td>$40-49</td>\n",
       "      <td>Heterosexual</td>\n",
       "      <td>Florida</td>\n",
       "      <td>Some College</td>\n",
       "      <td>Computer</td>\n",
       "      <td>Married</td>\n",
       "      <td>6-12 mo</td>\n",
       "    </tr>\n",
       "    <tr>\n",
       "      <th>4</th>\n",
       "      <td>id76087</td>\n",
       "      <td>0</td>\n",
       "      <td>20.0</td>\n",
       "      <td>Male</td>\n",
       "      <td>$30-39</td>\n",
       "      <td>Bisexual</td>\n",
       "      <td>New Jersey</td>\n",
       "      <td>Some College</td>\n",
       "      <td>Education</td>\n",
       "      <td>Single</td>\n",
       "      <td>1-3 yr</td>\n",
       "    </tr>\n",
       "  </tbody>\n",
       "</table>\n",
       "</div>"
      ],
      "text/plain": [
       "       who  Newbie   Age  Gender Household Income Sexual Preference  \\\n",
       "0  id74364       0  54.0    Male           $50-74          Gay male   \n",
       "1  id84505       0  39.0  Female        Over $100      Heterosexual   \n",
       "2  id84509       1  49.0  Female           $40-49      Heterosexual   \n",
       "3  id87028       1  22.0  Female           $40-49      Heterosexual   \n",
       "4  id76087       0  20.0    Male           $30-39          Bisexual   \n",
       "\n",
       "      Country Education Attainment Major Occupation Marital Status  \\\n",
       "0     Ontario         Some College         Computer          Other   \n",
       "1      Sweden         Professional            Other          Other   \n",
       "2  Washington         Some College       Management          Other   \n",
       "3     Florida         Some College         Computer        Married   \n",
       "4  New Jersey         Some College        Education         Single   \n",
       "\n",
       "  Years on Internet  \n",
       "0            4-6 yr  \n",
       "1            1-3 yr  \n",
       "2        Under 6 mo  \n",
       "3           6-12 mo  \n",
       "4            1-3 yr  "
      ]
     },
     "execution_count": 15,
     "metadata": {},
     "output_type": "execute_result"
    }
   ],
   "source": [
    "import pandas as pd\n",
    "data_url = \"http://www-stat.wharton.upenn.edu/~waterman/DataSets/uva.txt\"\n",
    "df = pd.read_table(data_url)\n",
    "df[:5]"
   ]
  },
  {
   "cell_type": "code",
   "execution_count": 16,
   "id": "1b05f886",
   "metadata": {},
   "outputs": [
    {
     "data": {
      "text/plain": [
       "0        id74364\n",
       "1        id84505\n",
       "2        id84509\n",
       "3        id87028\n",
       "4        id76087\n",
       "          ...   \n",
       "19578    id83400\n",
       "19579    id72216\n",
       "19580     id8654\n",
       "19581    id84503\n",
       "19582    id87674\n",
       "Name: who, Length: 19583, dtype: object"
      ]
     },
     "execution_count": 16,
     "metadata": {},
     "output_type": "execute_result"
    }
   ],
   "source": [
    "df.pop('who')"
   ]
  },
  {
   "cell_type": "code",
   "execution_count": 17,
   "id": "857b415a",
   "metadata": {},
   "outputs": [
    {
     "data": {
      "text/plain": [
       "Newbie                    int64\n",
       "Age                     float64\n",
       "Gender                   object\n",
       "Household Income         object\n",
       "Sexual Preference        object\n",
       "Education Attainment     object\n",
       "Major Occupation         object\n",
       "Marital Status           object\n",
       "dtype: object"
      ]
     },
     "execution_count": 17,
     "metadata": {},
     "output_type": "execute_result"
    }
   ],
   "source": [
    "df.pop('Country')\n",
    "df.pop('Years on Internet')\n",
    "\n",
    "df.dtypes"
   ]
  },
  {
   "cell_type": "code",
   "execution_count": 18,
   "id": "e02c6716",
   "metadata": {},
   "outputs": [
    {
     "data": {
      "text/plain": [
       "Newbie                     int64\n",
       "Age                      float64\n",
       "Gender                  category\n",
       "Household Income        category\n",
       "Sexual Preference       category\n",
       "Education Attainment    category\n",
       "Major Occupation        category\n",
       "Marital Status          category\n",
       "dtype: object"
      ]
     },
     "execution_count": 18,
     "metadata": {},
     "output_type": "execute_result"
    }
   ],
   "source": [
    "category_cols = [\"Gender\",'Household Income','Sexual Preference','Education Attainment','Major Occupation',\"Marital Status\"]\n",
    "\n",
    "for col in category_cols:\n",
    "    df[col] = df[col].astype('category')\n",
    "    \n",
    "df.dtypes"
   ]
  },
  {
   "cell_type": "code",
   "execution_count": 19,
   "id": "95a37465",
   "metadata": {},
   "outputs": [
    {
     "data": {
      "text/plain": [
       "(19583, 38)"
      ]
     },
     "execution_count": 19,
     "metadata": {},
     "output_type": "execute_result"
    }
   ],
   "source": [
    "df_onehot = pd.get_dummies(df)\n",
    "df_onehot.shape"
   ]
  },
  {
   "cell_type": "code",
   "execution_count": 20,
   "id": "74ad7c3a",
   "metadata": {},
   "outputs": [
    {
     "data": {
      "text/plain": [
       "Newbie                                 0\n",
       "Age                                  561\n",
       "Gender_Female                          0\n",
       "Gender_Male                            0\n",
       "Household Income_$10-19                0\n",
       "Household Income_$20-29                0\n",
       "Household Income_$30-39                0\n",
       "Household Income_$40-49                0\n",
       "Household Income_$50-74                0\n",
       "Household Income_$75-99                0\n",
       "Household Income_Over $100             0\n",
       "Household Income_Under $10             0\n",
       "Sexual Preference_Bisexual             0\n",
       "Sexual Preference_Gay male             0\n",
       "Sexual Preference_Heterosexual         0\n",
       "Sexual Preference_Lesbian              0\n",
       "Sexual Preference_Transgender          0\n",
       "Sexual Preference_na                   0\n",
       "Education Attainment_College           0\n",
       "Education Attainment_Doctoral          0\n",
       "Education Attainment_Grammar           0\n",
       "Education Attainment_High School       0\n",
       "Education Attainment_Masters           0\n",
       "Education Attainment_Other             0\n",
       "Education Attainment_Professional      0\n",
       "Education Attainment_Some College      0\n",
       "Education Attainment_Special           0\n",
       "Major Occupation_Computer              0\n",
       "Major Occupation_Education             0\n",
       "Major Occupation_Management            0\n",
       "Major Occupation_Other                 0\n",
       "Major Occupation_Professional          0\n",
       "Marital Status_Divorced                0\n",
       "Marital Status_Married                 0\n",
       "Marital Status_Other                   0\n",
       "Marital Status_Separated               0\n",
       "Marital Status_Single                  0\n",
       "Marital Status_Widowed                 0\n",
       "dtype: int64"
      ]
     },
     "execution_count": 20,
     "metadata": {},
     "output_type": "execute_result"
    }
   ],
   "source": [
    "df_onehot.isnull().sum()"
   ]
  },
  {
   "cell_type": "code",
   "execution_count": 21,
   "id": "4d11d1d8",
   "metadata": {},
   "outputs": [],
   "source": [
    "df_onehot.loc[pd.isnull(df_onehot['Age']),\"Age\"]=df_onehot['Age'].mean()"
   ]
  },
  {
   "cell_type": "code",
   "execution_count": 22,
   "id": "fbdea330",
   "metadata": {},
   "outputs": [
    {
     "data": {
      "text/plain": [
       "((19583, 1), (19583, 37))"
      ]
     },
     "execution_count": 22,
     "metadata": {},
     "output_type": "execute_result"
    }
   ],
   "source": [
    "x_data = df_onehot.iloc[:,1:].values\n",
    "y_data = df_onehot.iloc[:,0].values.reshape(-1,1)\n",
    "y_data.shape, x_data.shape"
   ]
  },
  {
   "cell_type": "code",
   "execution_count": 23,
   "id": "2da9fdfd",
   "metadata": {},
   "outputs": [],
   "source": [
    "from sklearn import preprocessing\n",
    "\n",
    "min_max_scaler = preprocessing.MinMaxScaler()\n",
    "x_data = min_max_scaler.fit_transform(x_data)"
   ]
  },
  {
   "cell_type": "code",
   "execution_count": 24,
   "id": "6d1b2a34",
   "metadata": {},
   "outputs": [
    {
     "data": {
      "text/plain": [
       "((13120, 37), (6463, 37))"
      ]
     },
     "execution_count": 24,
     "metadata": {},
     "output_type": "execute_result"
    }
   ],
   "source": [
    "from sklearn.model_selection import train_test_split\n",
    "\n",
    "X_train, X_test, y_train, y_test = train_test_split(x_data, y_data, test_size=0.33, random_state=42)\n",
    "X_train.shape, X_test.shape"
   ]
  },
  {
   "cell_type": "code",
   "execution_count": null,
   "id": "8e4bd219",
   "metadata": {},
   "outputs": [],
   "source": []
  }
 ],
 "metadata": {
  "kernelspec": {
   "display_name": "Python 3 (ipykernel)",
   "language": "python",
   "name": "python3"
  },
  "language_info": {
   "codemirror_mode": {
    "name": "ipython",
    "version": 3
   },
   "file_extension": ".py",
   "mimetype": "text/x-python",
   "name": "python",
   "nbconvert_exporter": "python",
   "pygments_lexer": "ipython3",
   "version": "3.11.4"
  }
 },
 "nbformat": 4,
 "nbformat_minor": 5
}
