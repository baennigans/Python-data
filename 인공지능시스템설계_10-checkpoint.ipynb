{
 "cells": [
  {
   "cell_type": "code",
   "execution_count": 1,
   "id": "59b4ba14",
   "metadata": {},
   "outputs": [
    {
     "data": {
      "text/plain": [
       "array([0.5, 1.2])"
      ]
     },
     "execution_count": 1,
     "metadata": {},
     "output_type": "execute_result"
    }
   ],
   "source": [
    "import numpy as np\n",
    "\n",
    "X = np.array([1,2])\n",
    "W = np.array([0.5, 0.6])\n",
    "X * W"
   ]
  },
  {
   "cell_type": "code",
   "execution_count": 2,
   "id": "b9206702",
   "metadata": {},
   "outputs": [
    {
     "data": {
      "text/plain": [
       "(1.7, 1.7)"
      ]
     },
     "execution_count": 2,
     "metadata": {},
     "output_type": "execute_result"
    }
   ],
   "source": [
    "np.sum(X*W), np.dot(X,W)"
   ]
  },
  {
   "cell_type": "code",
   "execution_count": 3,
   "id": "3eafb6f2",
   "metadata": {},
   "outputs": [
    {
     "name": "stdout",
     "output_type": "stream",
     "text": [
      "A = [ 9 12 15]\n"
     ]
    }
   ],
   "source": [
    "X = np.array([1,2])\n",
    "W = np.array([[1,2,3],[4,5,6]])\n",
    "A = np.dot(X,W)\n",
    "print('A =',A)"
   ]
  },
  {
   "cell_type": "code",
   "execution_count": 4,
   "id": "5ae5357b",
   "metadata": {},
   "outputs": [],
   "source": [
    "import numpy as np\n",
    "\n",
    "def activation(s):\n",
    "    if s > 0: return 1\n",
    "    else : return -1\n",
    "\n",
    "def perceptron(x1,x2):\n",
    "    x = np.array([x1,x2])\n",
    "    tmp = np.sum(W*x)+b\n",
    "    return activation(tmp)"
   ]
  },
  {
   "cell_type": "code",
   "execution_count": 5,
   "id": "3e326aa6",
   "metadata": {},
   "outputs": [
    {
     "name": "stdout",
     "output_type": "stream",
     "text": [
      "---퍼셉트론으로 구현한 AND 회로---\n",
      " -1 -1: -1\n",
      " -1  1: -1\n",
      "  1 -1: -1\n",
      "  1  1:  1\n"
     ]
    }
   ],
   "source": [
    "print('---퍼셉트론으로 구현한 AND 회로---')\n",
    "W = np.array([0.5,0.5])\n",
    "b = -0.7\n",
    "for x1, x2 in [(-1,-1),(-1,1),(1,-1),(1,1)]:\n",
    "    y = perceptron(x1,x2)\n",
    "    print('{:3d}{:3d}:{:3d}'.format(x1,x2,y))"
   ]
  },
  {
   "cell_type": "code",
   "execution_count": 6,
   "id": "a5047da2",
   "metadata": {},
   "outputs": [
    {
     "name": "stdout",
     "output_type": "stream",
     "text": [
      "---퍼셉트론으로 구현한 OF 회로---\n",
      " -1 -1: -1\n",
      " -1  1:  1\n",
      "  1 -1:  1\n",
      "  1  1:  1\n"
     ]
    }
   ],
   "source": [
    "print('---퍼셉트론으로 구현한 OF 회로---')\n",
    "W = np.array([0.5,0.5])\n",
    "b = 0.7\n",
    "for x1, x2 in [(-1,-1),(-1,1),(1,-1),(1,1)]:\n",
    "    y = perceptron(x1,x2)\n",
    "    print('{:3d}{:3d}:{:3d}'.format(x1,x2,y))"
   ]
  },
  {
   "cell_type": "code",
   "execution_count": null,
   "id": "80144a3f",
   "metadata": {},
   "outputs": [],
   "source": []
  }
 ],
 "metadata": {
  "kernelspec": {
   "display_name": "Python 3 (ipykernel)",
   "language": "python",
   "name": "python3"
  },
  "language_info": {
   "codemirror_mode": {
    "name": "ipython",
    "version": 3
   },
   "file_extension": ".py",
   "mimetype": "text/x-python",
   "name": "python",
   "nbconvert_exporter": "python",
   "pygments_lexer": "ipython3",
   "version": "3.11.4"
  }
 },
 "nbformat": 4,
 "nbformat_minor": 5
}
