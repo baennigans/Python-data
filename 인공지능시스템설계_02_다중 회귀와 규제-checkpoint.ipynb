{
 "cells": [
  {
   "cell_type": "code",
   "execution_count": 15,
   "id": "64d75045",
   "metadata": {},
   "outputs": [],
   "source": [
    "import numpy as np\n",
    "from sklearn.model_selection import train_test_split\n",
    "from sklearn.preprocessing import PolynomialFeatures\n",
    "from sklearn.linear_model import LinearRegression\n",
    "\n",
    "m = 20\n",
    "X = 8 * np.random.rand(m,1) - 4\n",
    "y = .5 * X ** 3 + .5 * X ** 2 + X + 3 + np.random.randn(m,1)\n",
    "\n",
    "X_train, X_test, y_train, y_test = train_test_split(X,y)"
   ]
  },
  {
   "cell_type": "code",
   "execution_count": 16,
   "id": "40aa8f44",
   "metadata": {},
   "outputs": [
    {
     "name": "stdout",
     "output_type": "stream",
     "text": [
      "훈련 데이터의 점수 =  1.0\n",
      "테스트 데이터의 점수 =  -1.879819775488637e+16\n"
     ]
    }
   ],
   "source": [
    "poly_features = PolynomialFeatures(degree = 20, include_bias = False)\n",
    "X_train_pl = poly_features.fit_transform(X_train)\n",
    "X_test_pl = poly_features.fit_transform(X_test)\n",
    "\n",
    "regr = LinearRegression()\n",
    "regr.fit(X_train_pl, y_train)\n",
    "\n",
    "print('훈련 데이터의 점수 = ', regr.score(X_train_pl, y_train).round(3))\n",
    "print('테스트 데이터의 점수 = ',regr.score(X_test_pl, y_test).round(3))"
   ]
  },
  {
   "cell_type": "code",
   "execution_count": 17,
   "id": "6699272c",
   "metadata": {},
   "outputs": [],
   "source": [
    "from sklearn.preprocessing import StandardScaler\n",
    "\n",
    "ss = StandardScaler()\n",
    "ss.fit(X_train_pl)\n",
    "train_scaled, test_scaled = ss.transform(X_train_pl), ss.transform(X_test_pl)\n",
    "ss.fit(y_train)\n",
    "y_train_scaled, y_test_scaled = ss.transform(y_train), ss.transform(y_test)"
   ]
  },
  {
   "cell_type": "code",
   "execution_count": null,
   "id": "f5b1856d",
   "metadata": {},
   "outputs": [],
   "source": []
  },
  {
   "cell_type": "code",
   "execution_count": 18,
   "id": "8421b4ca",
   "metadata": {},
   "outputs": [],
   "source": [
    "import matplotlib.pyplot as plt\n",
    "import numpy as np\n",
    "from sklearn.linear_model import LinearRegression\n",
    "from sklearn import datasets\n",
    "\n",
    "diabetes = datasets.load_diabetes()"
   ]
  },
  {
   "cell_type": "code",
   "execution_count": 19,
   "id": "f4df11b6",
   "metadata": {},
   "outputs": [
    {
     "name": "stdout",
     "output_type": "stream",
     "text": [
      "shape of diabetes.data: (442, 10)\n",
      "[[ 0.03807591  0.05068012  0.06169621 ... -0.00259226  0.01990749\n",
      "  -0.01764613]\n",
      " [-0.00188202 -0.04464164 -0.05147406 ... -0.03949338 -0.06833155\n",
      "  -0.09220405]\n",
      " [ 0.08529891  0.05068012  0.04445121 ... -0.00259226  0.00286131\n",
      "  -0.02593034]\n",
      " ...\n",
      " [ 0.04170844  0.05068012 -0.01590626 ... -0.01107952 -0.04688253\n",
      "   0.01549073]\n",
      " [-0.04547248 -0.04464164  0.03906215 ...  0.02655962  0.04452873\n",
      "  -0.02593034]\n",
      " [-0.04547248 -0.04464164 -0.0730303  ... -0.03949338 -0.00422151\n",
      "   0.00306441]]\n"
     ]
    }
   ],
   "source": [
    "print('shape of diabetes.data:', diabetes.data.shape)\n",
    "print(diabetes.data)"
   ]
  },
  {
   "cell_type": "code",
   "execution_count": 20,
   "id": "5f0d4412",
   "metadata": {},
   "outputs": [
    {
     "name": "stdout",
     "output_type": "stream",
     "text": [
      "입력데이터의 특성들\n",
      "['age', 'sex', 'bmi', 'bp', 's1', 's2', 's3', 's4', 's5', 's6']\n"
     ]
    }
   ],
   "source": [
    "print('입력데이터의 특성들')\n",
    "print(diabetes.feature_names)"
   ]
  },
  {
   "cell_type": "code",
   "execution_count": 22,
   "id": "367dc62f",
   "metadata": {},
   "outputs": [
    {
     "name": "stdout",
     "output_type": "stream",
     "text": [
      "target data y: (442,)\n"
     ]
    }
   ],
   "source": [
    "print('target data y:', diabetes.target.shape)\n",
    "#print(diabetes.target)"
   ]
  },
  {
   "cell_type": "code",
   "execution_count": 23,
   "id": "4dd8c113",
   "metadata": {},
   "outputs": [],
   "source": [
    "X = diabetes.data[:,2]\n",
    "#print(X)"
   ]
  },
  {
   "cell_type": "code",
   "execution_count": 24,
   "id": "24682147",
   "metadata": {},
   "outputs": [],
   "source": [
    "X = diabetes.data[:, np.newaxis, 2]\n",
    "#print(X)"
   ]
  },
  {
   "cell_type": "code",
   "execution_count": null,
   "id": "3bb96763",
   "metadata": {},
   "outputs": [],
   "source": []
  }
 ],
 "metadata": {
  "kernelspec": {
   "display_name": "Python 3 (ipykernel)",
   "language": "python",
   "name": "python3"
  },
  "language_info": {
   "codemirror_mode": {
    "name": "ipython",
    "version": 3
   },
   "file_extension": ".py",
   "mimetype": "text/x-python",
   "name": "python",
   "nbconvert_exporter": "python",
   "pygments_lexer": "ipython3",
   "version": "3.11.4"
  }
 },
 "nbformat": 4,
 "nbformat_minor": 5
}
