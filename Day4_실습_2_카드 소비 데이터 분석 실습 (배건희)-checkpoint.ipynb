{
 "cells": [
  {
   "cell_type": "markdown",
   "metadata": {},
   "source": [
    "# BC 카드 소비 데이터 분석 (2)\n",
    "\n",
    "* 2020년 3월 카드 소비 데이터 : bc_card_out2020_03.txt\n",
    "  - 레코드 수가 100만개 이상\n",
    "  - \\t으로 분리된 csv 파일\n",
    "  - 전처리된 데이터가 저장되어 있음\n",
    "\n",
    "## 1. 데이터 로딩 to DataFrame\n",
    "- 전처리하여 csv로 저장한 파일 '201906.csv'을 판다스 dataframe으로 로딩 (encoding='utf-8', index_col=0)\n",
    "- 앞부분 데이터 확인\n",
    "- 전체 데이터 수 확인"
   ]
  },
  {
   "cell_type": "code",
   "execution_count": 6,
   "metadata": {
    "colab": {
     "base_uri": "https://localhost:8080/",
     "height": 317
    },
    "executionInfo": {
     "elapsed": 508,
     "status": "ok",
     "timestamp": 1684657417579,
     "user": {
      "displayName": "꾬은주",
      "userId": "05623544279730996499"
     },
     "user_tz": -540
    },
    "id": "Jv_Olia7V208",
    "outputId": "5f3b27ff-d84d-46d6-d97c-c773a6396cbe"
   },
   "outputs": [],
   "source": [
    "import pandas as pd\n",
    "df = pd.read_csv('bc_card_out2020_03.txt', sep='\\t', encoding='utf-8')"
   ]
  },
  {
   "cell_type": "code",
   "execution_count": 7,
   "metadata": {},
   "outputs": [
    {
     "data": {
      "text/html": [
       "<div>\n",
       "<style scoped>\n",
       "    .dataframe tbody tr th:only-of-type {\n",
       "        vertical-align: middle;\n",
       "    }\n",
       "\n",
       "    .dataframe tbody tr th {\n",
       "        vertical-align: top;\n",
       "    }\n",
       "\n",
       "    .dataframe thead th {\n",
       "        text-align: right;\n",
       "    }\n",
       "</style>\n",
       "<table border=\"1\" class=\"dataframe\">\n",
       "  <thead>\n",
       "    <tr style=\"text-align: right;\">\n",
       "      <th></th>\n",
       "      <th>REG_YYMM</th>\n",
       "      <th>MEGA_CTY_NO</th>\n",
       "      <th>MEGA_CTY_NM</th>\n",
       "      <th>CTY_RGN_NO</th>\n",
       "      <th>CTY_RGN_NM</th>\n",
       "      <th>ADMI_CTY_NO</th>\n",
       "      <th>ADMI_CTY_NM</th>\n",
       "      <th>MAIN_BUZ_CODE</th>\n",
       "      <th>MAIN_BUZ_DESC</th>\n",
       "      <th>TP_GRP_NO</th>\n",
       "      <th>...</th>\n",
       "      <th>CSTMR_GUBUN</th>\n",
       "      <th>CSTMR_MEGA_CTY_NO</th>\n",
       "      <th>CSTMR_MEGA_CTY_NM</th>\n",
       "      <th>CSTMR_CTY_RGN_NO</th>\n",
       "      <th>CSTMR_CTY_RGN_NM</th>\n",
       "      <th>SEX_CTGO_CD</th>\n",
       "      <th>AGE_VAL</th>\n",
       "      <th>FLC</th>\n",
       "      <th>AMT</th>\n",
       "      <th>CNT</th>\n",
       "    </tr>\n",
       "  </thead>\n",
       "  <tbody>\n",
       "    <tr>\n",
       "      <th>0</th>\n",
       "      <td>202003</td>\n",
       "      <td>11</td>\n",
       "      <td>서울특별시</td>\n",
       "      <td>1168</td>\n",
       "      <td>강남구</td>\n",
       "      <td>11680750</td>\n",
       "      <td>수서동</td>\n",
       "      <td>30</td>\n",
       "      <td>생활</td>\n",
       "      <td>40</td>\n",
       "      <td>...</td>\n",
       "      <td>내국인</td>\n",
       "      <td>11</td>\n",
       "      <td>서울특별시</td>\n",
       "      <td>1168</td>\n",
       "      <td>강남구</td>\n",
       "      <td>2</td>\n",
       "      <td>20대</td>\n",
       "      <td>1</td>\n",
       "      <td>7927440</td>\n",
       "      <td>1089</td>\n",
       "    </tr>\n",
       "    <tr>\n",
       "      <th>1</th>\n",
       "      <td>202003</td>\n",
       "      <td>11</td>\n",
       "      <td>서울특별시</td>\n",
       "      <td>1129</td>\n",
       "      <td>성북구</td>\n",
       "      <td>11290660</td>\n",
       "      <td>길음1동</td>\n",
       "      <td>30</td>\n",
       "      <td>생활</td>\n",
       "      <td>70</td>\n",
       "      <td>...</td>\n",
       "      <td>내국인</td>\n",
       "      <td>11</td>\n",
       "      <td>서울특별시</td>\n",
       "      <td>1129</td>\n",
       "      <td>성북구</td>\n",
       "      <td>1</td>\n",
       "      <td>40대</td>\n",
       "      <td>4</td>\n",
       "      <td>274100</td>\n",
       "      <td>25</td>\n",
       "    </tr>\n",
       "    <tr>\n",
       "      <th>2</th>\n",
       "      <td>202003</td>\n",
       "      <td>11</td>\n",
       "      <td>서울특별시</td>\n",
       "      <td>1144</td>\n",
       "      <td>마포구</td>\n",
       "      <td>11440555</td>\n",
       "      <td>아현동</td>\n",
       "      <td>30</td>\n",
       "      <td>생활</td>\n",
       "      <td>40</td>\n",
       "      <td>...</td>\n",
       "      <td>내국인</td>\n",
       "      <td>11</td>\n",
       "      <td>서울특별시</td>\n",
       "      <td>1114</td>\n",
       "      <td>중구</td>\n",
       "      <td>1</td>\n",
       "      <td>60대 이상</td>\n",
       "      <td>5</td>\n",
       "      <td>34395725</td>\n",
       "      <td>808</td>\n",
       "    </tr>\n",
       "    <tr>\n",
       "      <th>3</th>\n",
       "      <td>202003</td>\n",
       "      <td>11</td>\n",
       "      <td>서울특별시</td>\n",
       "      <td>1126</td>\n",
       "      <td>중랑구</td>\n",
       "      <td>11260590</td>\n",
       "      <td>상봉2동</td>\n",
       "      <td>30</td>\n",
       "      <td>생활</td>\n",
       "      <td>40</td>\n",
       "      <td>...</td>\n",
       "      <td>내국인</td>\n",
       "      <td>11</td>\n",
       "      <td>서울특별시</td>\n",
       "      <td>1126</td>\n",
       "      <td>중랑구</td>\n",
       "      <td>2</td>\n",
       "      <td>20대</td>\n",
       "      <td>1</td>\n",
       "      <td>31860800</td>\n",
       "      <td>3699</td>\n",
       "    </tr>\n",
       "    <tr>\n",
       "      <th>4</th>\n",
       "      <td>202003</td>\n",
       "      <td>11</td>\n",
       "      <td>서울특별시</td>\n",
       "      <td>1168</td>\n",
       "      <td>강남구</td>\n",
       "      <td>11680630</td>\n",
       "      <td>대치4동</td>\n",
       "      <td>30</td>\n",
       "      <td>생활</td>\n",
       "      <td>62</td>\n",
       "      <td>...</td>\n",
       "      <td>내국인</td>\n",
       "      <td>41</td>\n",
       "      <td>경기도</td>\n",
       "      <td>4146</td>\n",
       "      <td>용인시</td>\n",
       "      <td>2</td>\n",
       "      <td>50대</td>\n",
       "      <td>4</td>\n",
       "      <td>2546487</td>\n",
       "      <td>45</td>\n",
       "    </tr>\n",
       "    <tr>\n",
       "      <th>5</th>\n",
       "      <td>202003</td>\n",
       "      <td>11</td>\n",
       "      <td>서울특별시</td>\n",
       "      <td>1130</td>\n",
       "      <td>강북구</td>\n",
       "      <td>11305660</td>\n",
       "      <td>인수동</td>\n",
       "      <td>30</td>\n",
       "      <td>생활</td>\n",
       "      <td>92</td>\n",
       "      <td>...</td>\n",
       "      <td>내국인</td>\n",
       "      <td>11</td>\n",
       "      <td>서울특별시</td>\n",
       "      <td>1130</td>\n",
       "      <td>강북구</td>\n",
       "      <td>1</td>\n",
       "      <td>50대</td>\n",
       "      <td>4</td>\n",
       "      <td>508970</td>\n",
       "      <td>27</td>\n",
       "    </tr>\n",
       "    <tr>\n",
       "      <th>6</th>\n",
       "      <td>202003</td>\n",
       "      <td>11</td>\n",
       "      <td>서울특별시</td>\n",
       "      <td>1117</td>\n",
       "      <td>용산구</td>\n",
       "      <td>11170650</td>\n",
       "      <td>이태원1동</td>\n",
       "      <td>80</td>\n",
       "      <td>음식</td>\n",
       "      <td>80</td>\n",
       "      <td>...</td>\n",
       "      <td>내국인</td>\n",
       "      <td>11</td>\n",
       "      <td>서울특별시</td>\n",
       "      <td>1138</td>\n",
       "      <td>은평구</td>\n",
       "      <td>1</td>\n",
       "      <td>20대</td>\n",
       "      <td>1</td>\n",
       "      <td>3372800</td>\n",
       "      <td>124</td>\n",
       "    </tr>\n",
       "    <tr>\n",
       "      <th>7</th>\n",
       "      <td>202003</td>\n",
       "      <td>11</td>\n",
       "      <td>서울특별시</td>\n",
       "      <td>1135</td>\n",
       "      <td>노원구</td>\n",
       "      <td>11350640</td>\n",
       "      <td>상계2동</td>\n",
       "      <td>80</td>\n",
       "      <td>음식</td>\n",
       "      <td>80</td>\n",
       "      <td>...</td>\n",
       "      <td>내국인</td>\n",
       "      <td>11</td>\n",
       "      <td>서울특별시</td>\n",
       "      <td>1135</td>\n",
       "      <td>노원구</td>\n",
       "      <td>1</td>\n",
       "      <td>20대</td>\n",
       "      <td>1</td>\n",
       "      <td>93692161</td>\n",
       "      <td>3566</td>\n",
       "    </tr>\n",
       "    <tr>\n",
       "      <th>8</th>\n",
       "      <td>202003</td>\n",
       "      <td>11</td>\n",
       "      <td>서울특별시</td>\n",
       "      <td>1159</td>\n",
       "      <td>동작구</td>\n",
       "      <td>11590540</td>\n",
       "      <td>상도2동</td>\n",
       "      <td>80</td>\n",
       "      <td>음식</td>\n",
       "      <td>80</td>\n",
       "      <td>...</td>\n",
       "      <td>내국인</td>\n",
       "      <td>11</td>\n",
       "      <td>서울특별시</td>\n",
       "      <td>1159</td>\n",
       "      <td>동작구</td>\n",
       "      <td>1</td>\n",
       "      <td>30대</td>\n",
       "      <td>2</td>\n",
       "      <td>14675900</td>\n",
       "      <td>706</td>\n",
       "    </tr>\n",
       "    <tr>\n",
       "      <th>9</th>\n",
       "      <td>202003</td>\n",
       "      <td>11</td>\n",
       "      <td>서울특별시</td>\n",
       "      <td>1130</td>\n",
       "      <td>강북구</td>\n",
       "      <td>11305545</td>\n",
       "      <td>송중동</td>\n",
       "      <td>30</td>\n",
       "      <td>생활</td>\n",
       "      <td>70</td>\n",
       "      <td>...</td>\n",
       "      <td>내국인</td>\n",
       "      <td>11</td>\n",
       "      <td>서울특별시</td>\n",
       "      <td>1129</td>\n",
       "      <td>성북구</td>\n",
       "      <td>2</td>\n",
       "      <td>50대</td>\n",
       "      <td>4</td>\n",
       "      <td>6648030</td>\n",
       "      <td>219</td>\n",
       "    </tr>\n",
       "  </tbody>\n",
       "</table>\n",
       "<p>10 rows × 23 columns</p>\n",
       "</div>"
      ],
      "text/plain": [
       "   REG_YYMM  MEGA_CTY_NO MEGA_CTY_NM  CTY_RGN_NO CTY_RGN_NM  ADMI_CTY_NO  \\\n",
       "0    202003           11       서울특별시        1168        강남구     11680750   \n",
       "1    202003           11       서울특별시        1129        성북구     11290660   \n",
       "2    202003           11       서울특별시        1144        마포구     11440555   \n",
       "3    202003           11       서울특별시        1126        중랑구     11260590   \n",
       "4    202003           11       서울특별시        1168        강남구     11680630   \n",
       "5    202003           11       서울특별시        1130        강북구     11305660   \n",
       "6    202003           11       서울특별시        1117        용산구     11170650   \n",
       "7    202003           11       서울특별시        1135        노원구     11350640   \n",
       "8    202003           11       서울특별시        1159        동작구     11590540   \n",
       "9    202003           11       서울특별시        1130        강북구     11305545   \n",
       "\n",
       "  ADMI_CTY_NM  MAIN_BUZ_CODE MAIN_BUZ_DESC  TP_GRP_NO  ... CSTMR_GUBUN  \\\n",
       "0         수서동             30            생활         40  ...         내국인   \n",
       "1        길음1동             30            생활         70  ...         내국인   \n",
       "2         아현동             30            생활         40  ...         내국인   \n",
       "3        상봉2동             30            생활         40  ...         내국인   \n",
       "4        대치4동             30            생활         62  ...         내국인   \n",
       "5         인수동             30            생활         92  ...         내국인   \n",
       "6       이태원1동             80            음식         80  ...         내국인   \n",
       "7        상계2동             80            음식         80  ...         내국인   \n",
       "8        상도2동             80            음식         80  ...         내국인   \n",
       "9         송중동             30            생활         70  ...         내국인   \n",
       "\n",
       "   CSTMR_MEGA_CTY_NO CSTMR_MEGA_CTY_NM CSTMR_CTY_RGN_NO  CSTMR_CTY_RGN_NM  \\\n",
       "0                 11             서울특별시             1168               강남구   \n",
       "1                 11             서울특별시             1129               성북구   \n",
       "2                 11             서울특별시             1114                중구   \n",
       "3                 11             서울특별시             1126               중랑구   \n",
       "4                 41               경기도             4146               용인시   \n",
       "5                 11             서울특별시             1130               강북구   \n",
       "6                 11             서울특별시             1138               은평구   \n",
       "7                 11             서울특별시             1135               노원구   \n",
       "8                 11             서울특별시             1159               동작구   \n",
       "9                 11             서울특별시             1129               성북구   \n",
       "\n",
       "  SEX_CTGO_CD  AGE_VAL FLC       AMT   CNT  \n",
       "0           2      20대   1   7927440  1089  \n",
       "1           1      40대   4    274100    25  \n",
       "2           1   60대 이상   5  34395725   808  \n",
       "3           2      20대   1  31860800  3699  \n",
       "4           2      50대   4   2546487    45  \n",
       "5           1      50대   4    508970    27  \n",
       "6           1      20대   1   3372800   124  \n",
       "7           1      20대   1  93692161  3566  \n",
       "8           1      30대   2  14675900   706  \n",
       "9           2      50대   4   6648030   219  \n",
       "\n",
       "[10 rows x 23 columns]"
      ]
     },
     "execution_count": 7,
     "metadata": {},
     "output_type": "execute_result"
    }
   ],
   "source": [
    "df.head(10)"
   ]
  },
  {
   "cell_type": "code",
   "execution_count": 8,
   "metadata": {},
   "outputs": [
    {
     "name": "stdout",
     "output_type": "stream",
     "text": [
      "1589494\n"
     ]
    }
   ],
   "source": [
    "print(len(df))"
   ]
  },
  {
   "cell_type": "markdown",
   "metadata": {
    "id": "oKDfvHs7XBbC"
   },
   "source": [
    "## 2. 서울시 거주/비거주 고객의 소비액 구하기\n",
    "* 서울시 거주 고객 수와 소비액\n",
    "    - 남성 고객수, 소비액\n",
    "    - 여성 고객수, 소비액\n",
    "* 서울시 비거주 고개 수와 소비액\n",
    "    - 남성 고객수, 소비액\n",
    "    - 여성 고객수, 소비액"
   ]
  },
  {
   "cell_type": "code",
   "execution_count": 21,
   "metadata": {},
   "outputs": [],
   "source": [
    "seoul = df[df['CSTMR_MEGA_CTY_NM'] == '서울특별시']"
   ]
  },
  {
   "cell_type": "code",
   "execution_count": 22,
   "metadata": {
    "colab": {
     "base_uri": "https://localhost:8080/",
     "height": 200
    },
    "executionInfo": {
     "elapsed": 9,
     "status": "ok",
     "timestamp": 1684657430838,
     "user": {
      "displayName": "꾬은주",
      "userId": "05623544279730996499"
     },
     "user_tz": -540
    },
    "id": "I8bJAzlkXaRQ",
    "outputId": "10f17428-09e0-4eaa-e13d-43ba60dfd110"
   },
   "outputs": [
    {
     "name": "stdout",
     "output_type": "stream",
     "text": [
      "서울시 거주 고객 수 : 901072 명\n",
      "서울시 거주 고객 소비액: 1385914569631 원\n"
     ]
    }
   ],
   "source": [
    "print('서울시 거주 고객 수 :', len(seoul),'명')\n",
    "print('서울시 거주 고객 소비액:', seoul['AMT'].sum(),'원')"
   ]
  },
  {
   "cell_type": "code",
   "execution_count": 23,
   "metadata": {},
   "outputs": [],
   "source": [
    "seoul_man = seoul[seoul['SEX_CTGO_CD']==1]"
   ]
  },
  {
   "cell_type": "code",
   "execution_count": 38,
   "metadata": {},
   "outputs": [
    {
     "name": "stdout",
     "output_type": "stream",
     "text": [
      "서울시 거주 남성 고객 수 : 480069 명\n",
      "서울시 거주 남성 고객 소비액 : 682678945342 원\n"
     ]
    }
   ],
   "source": [
    "print('서울시 거주 남성 고객 수 :', len(seoul_man),'명')\n",
    "print('서울시 거주 남성 고객 소비액 :', seoul_man['AMT'].sum(),'원')"
   ]
  },
  {
   "cell_type": "code",
   "execution_count": 26,
   "metadata": {},
   "outputs": [],
   "source": [
    "seoul_woman = seoul[seoul['SEX_CTGO_CD']==2]"
   ]
  },
  {
   "cell_type": "code",
   "execution_count": 27,
   "metadata": {},
   "outputs": [
    {
     "name": "stdout",
     "output_type": "stream",
     "text": [
      "서울시 거주 여성 고객 수 : 421003 명\n",
      "서울시 거주 여성 고객 소비액 : 703235624289 원\n"
     ]
    }
   ],
   "source": [
    "print('서울시 거주 여성 고객 수 :', len(seoul_woman),'명')\n",
    "print('서울시 거주 여성 고객 소비액 :', seoul_woman['AMT'].sum(),'원')"
   ]
  },
  {
   "cell_type": "code",
   "execution_count": 30,
   "metadata": {},
   "outputs": [],
   "source": [
    "no_seoul = df[df['CSTMR_MEGA_CTY_NM'] != '서울특별시']"
   ]
  },
  {
   "cell_type": "code",
   "execution_count": 32,
   "metadata": {},
   "outputs": [
    {
     "name": "stdout",
     "output_type": "stream",
     "text": [
      "서울시 비거주 고객 수 : 688422 명\n",
      "서울시 비거주 고객 소비액: 1940899349900 원\n"
     ]
    }
   ],
   "source": [
    "print('서울시 비거주 고객 수 :', len(no_seoul),'명')\n",
    "print('서울시 비거주 고객 소비액:', no_seoul['AMT'].sum(),'원')"
   ]
  },
  {
   "cell_type": "code",
   "execution_count": 33,
   "metadata": {},
   "outputs": [],
   "source": [
    "no_seoul_man = no_seoul[no_seoul['SEX_CTGO_CD']==1]"
   ]
  },
  {
   "cell_type": "code",
   "execution_count": 34,
   "metadata": {},
   "outputs": [
    {
     "name": "stdout",
     "output_type": "stream",
     "text": [
      "서울시 비거주 남성 고객 수 : 385870 명\n",
      "서울시 비거주 남성 고객 소비액 : 1015425463575 원\n"
     ]
    }
   ],
   "source": [
    "print('서울시 비거주 남성 고객 수 :', len(no_seoul_man),'명')\n",
    "print('서울시 비거주 남성 고객 소비액 :', no_seoul_man['AMT'].sum(),'원')"
   ]
  },
  {
   "cell_type": "code",
   "execution_count": 35,
   "metadata": {},
   "outputs": [],
   "source": [
    "no_seoul_woman = no_seoul[no_seoul['SEX_CTGO_CD']==2]"
   ]
  },
  {
   "cell_type": "code",
   "execution_count": 36,
   "metadata": {},
   "outputs": [
    {
     "name": "stdout",
     "output_type": "stream",
     "text": [
      "서울시 비거주 여성 고객 수 : 302552 명\n",
      "서울시 비거주 여성 고객 소비액 : 925473886325 원\n"
     ]
    }
   ],
   "source": [
    "print('서울시 비거주 여성 고객 수 :', len(no_seoul_woman),'명')\n",
    "print('서울시 비거주 여성 고객 소비액 :', no_seoul_woman['AMT'].sum(),'원')"
   ]
  },
  {
   "cell_type": "markdown",
   "metadata": {
    "id": "U7DA55vDaKsw"
   },
   "source": [
    "### 3. 서울시 거주자 편의점 소비 건수와 소비액 구하기"
   ]
  },
  {
   "cell_type": "code",
   "execution_count": 44,
   "metadata": {
    "colab": {
     "base_uri": "https://localhost:8080/"
    },
    "executionInfo": {
     "elapsed": 3,
     "status": "ok",
     "timestamp": 1684657434267,
     "user": {
      "displayName": "꾬은주",
      "userId": "05623544279730996499"
     },
     "user_tz": -540
    },
    "id": "rS1bjfdqXkh6",
    "outputId": "6f66bc10-4c60-4776-a8b0-6528140d2e2b"
   },
   "outputs": [],
   "source": [
    "seoul_conv = df[(df['CSTMR_MEGA_CTY_NM']=='서울특별시') & (df['TP_BUZ_NO']==4010)]"
   ]
  },
  {
   "cell_type": "code",
   "execution_count": 46,
   "metadata": {},
   "outputs": [
    {
     "name": "stdout",
     "output_type": "stream",
     "text": [
      "서울시 거주자의 편의점 소비 건수 : 10113011 건\n",
      "서울시 거주자의 편의점 소비액 : 66513977146 원\n"
     ]
    }
   ],
   "source": [
    "print('서울시 거주자의 편의점 소비 건수 :', seoul_conv['CNT'].sum(),'건')\n",
    "print('서울시 거주자의 편의점 소비액 :', seoul_conv['AMT'].sum(),'원')"
   ]
  },
  {
   "cell_type": "markdown",
   "metadata": {},
   "source": [
    "### 4. 강남구 거주자의 강남구 내 소비액과 강남구 외 소비액 구하기"
   ]
  },
  {
   "cell_type": "code",
   "execution_count": 47,
   "metadata": {
    "colab": {
     "base_uri": "https://localhost:8080/"
    },
    "executionInfo": {
     "elapsed": 4,
     "status": "ok",
     "timestamp": 1684657478059,
     "user": {
      "displayName": "꾬은주",
      "userId": "05623544279730996499"
     },
     "user_tz": -540
    },
    "id": "M2LFGBsyaPGZ",
    "outputId": "e0a9e1e7-1feb-4522-9b56-b6824ab7806c"
   },
   "outputs": [],
   "source": [
    "gangnam = df[(df['CSTMR_MEGA_CTY_NM']=='서울특별시') & (df['CSTMR_CTY_RGN_NM'] == '강남구')]"
   ]
  },
  {
   "cell_type": "code",
   "execution_count": 48,
   "metadata": {},
   "outputs": [],
   "source": [
    "gangnam_in = gangnam[gangnam['CTY_RGN_NM']=='강남구']\n",
    "gangnam_out = gangnam[gangnam['CTY_RGN_NM']!='강남구']"
   ]
  },
  {
   "cell_type": "code",
   "execution_count": 50,
   "metadata": {},
   "outputs": [
    {
     "name": "stdout",
     "output_type": "stream",
     "text": [
      "강남구 거주자의 강남구 내 소비액 : 46387952763 원\n",
      "강남구 거주자의 강남구 외 소비액 : 62203324642 원\n"
     ]
    }
   ],
   "source": [
    "print('강남구 거주자의 강남구 내 소비액 :',gangnam_in['AMT'].sum(),'원')\n",
    "print('강남구 거주자의 강남구 외 소비액 :',gangnam_out['AMT'].sum(),'원')"
   ]
  },
  {
   "cell_type": "code",
   "execution_count": null,
   "metadata": {},
   "outputs": [],
   "source": []
  }
 ],
 "metadata": {
  "colab": {
   "authorship_tag": "ABX9TyOQfjTVF9B5ikuhplpIiOVY",
   "mount_file_id": "1ZQJ7IDg6rMW7lk-Q6ldgP8ZcrUnOT0S0",
   "provenance": []
  },
  "kernelspec": {
   "display_name": "Python 3 (ipykernel)",
   "language": "python",
   "name": "python3"
  },
  "language_info": {
   "codemirror_mode": {
    "name": "ipython",
    "version": 3
   },
   "file_extension": ".py",
   "mimetype": "text/x-python",
   "name": "python",
   "nbconvert_exporter": "python",
   "pygments_lexer": "ipython3",
   "version": "3.11.4"
  }
 },
 "nbformat": 4,
 "nbformat_minor": 1
}
